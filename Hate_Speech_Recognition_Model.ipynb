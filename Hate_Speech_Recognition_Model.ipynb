{
  "nbformat": 4,
  "nbformat_minor": 0,
  "metadata": {
    "colab": {
      "name": "Hate_Speech_Recognition_Model.ipynb",
      "provenance": [],
      "collapsed_sections": [],
      "authorship_tag": "ABX9TyO4XOv0+wqe98cW4m5uTSsB",
      "include_colab_link": true
    },
    "kernelspec": {
      "name": "python3",
      "display_name": "Python 3"
    },
    "language_info": {
      "name": "python"
    }
  },
  "cells": [
    {
      "cell_type": "markdown",
      "metadata": {
        "id": "view-in-github",
        "colab_type": "text"
      },
      "source": [
        "<a href=\"https://colab.research.google.com/github/AditiRavi/Hate-Speech-Recognition/blob/main/Hate_Speech_Recognition_Model.ipynb\" target=\"_parent\"><img src=\"https://colab.research.google.com/assets/colab-badge.svg\" alt=\"Open In Colab\"/></a>"
      ]
    },
    {
      "cell_type": "code",
      "metadata": {
        "colab": {
          "base_uri": "https://localhost:8080/",
          "height": 70
        },
        "id": "zAhywKSmcHec",
        "outputId": "3a34e908-900c-452f-d916-c78e682fa02b"
      },
      "source": [
        "import numpy as np \n",
        "import pandas as pd \n",
        "import matplotlib.pyplot as plt\n",
        "from wordcloud import WordCloud\n",
        "\n",
        "from sklearn.compose import ColumnTransformer\n",
        "from sklearn.preprocessing import OneHotEncoder\n",
        "\n",
        "import re\n",
        "import nltk\n",
        "nltk.download('stopwords')\n",
        "from nltk.corpus import stopwords\n",
        "from nltk.stem.porter import PorterStemmer\n",
        "from sklearn.feature_extraction.text import CountVectorizer\n",
        "\n",
        "from sklearn.model_selection import train_test_split\n",
        "from sklearn.ensemble import RandomForestClassifier\n",
        "from sklearn.linear_model import LogisticRegression\n",
        "from sklearn.neighbors import KNeighborsClassifier\n",
        "from sklearn.tree import DecisionTreeClassifier\n",
        "from sklearn.naive_bayes import GaussianNB\n",
        "\n",
        "from sklearn.metrics import confusion_matrix, accuracy_score\n",
        "\n",
        "import os\n",
        "\n",
        "import string\n",
        "string.punctuation"
      ],
      "execution_count": null,
      "outputs": [
        {
          "output_type": "stream",
          "name": "stdout",
          "text": [
            "[nltk_data] Downloading package stopwords to /root/nltk_data...\n",
            "[nltk_data]   Package stopwords is already up-to-date!\n"
          ]
        },
        {
          "output_type": "execute_result",
          "data": {
            "application/vnd.google.colaboratory.intrinsic+json": {
              "type": "string"
            },
            "text/plain": [
              "'!\"#$%&\\'()*+,-./:;<=>?@[\\\\]^_`{|}~'"
            ]
          },
          "metadata": {},
          "execution_count": 8
        }
      ]
    },
    {
      "cell_type": "code",
      "metadata": {
        "id": "H2zrlY_wcLEt"
      },
      "source": [
        "tweets_df = pd.read_csv('https://cainvas-static.s3.amazonaws.com/media/user_data/cainvas-admin/twitter_labeled_data.csv')"
      ],
      "execution_count": null,
      "outputs": []
    },
    {
      "cell_type": "code",
      "metadata": {
        "id": "JmR9rpJ5cLYL"
      },
      "source": [
        "tweets_df = tweets_df.drop(['neither','Unnamed: 0','count','hate_speech','offensive_language'], axis= 1)"
      ],
      "execution_count": null,
      "outputs": []
    },
    {
      "cell_type": "code",
      "metadata": {
        "colab": {
          "base_uri": "https://localhost:8080/",
          "height": 206
        },
        "id": "H1LTJLDacLgW",
        "outputId": "da92a689-d26a-460f-fdcd-06678e947583"
      },
      "source": [
        "tweets_df.head()"
      ],
      "execution_count": null,
      "outputs": [
        {
          "output_type": "execute_result",
          "data": {
            "text/html": [
              "<div>\n",
              "<style scoped>\n",
              "    .dataframe tbody tr th:only-of-type {\n",
              "        vertical-align: middle;\n",
              "    }\n",
              "\n",
              "    .dataframe tbody tr th {\n",
              "        vertical-align: top;\n",
              "    }\n",
              "\n",
              "    .dataframe thead th {\n",
              "        text-align: right;\n",
              "    }\n",
              "</style>\n",
              "<table border=\"1\" class=\"dataframe\">\n",
              "  <thead>\n",
              "    <tr style=\"text-align: right;\">\n",
              "      <th></th>\n",
              "      <th>class</th>\n",
              "      <th>tweet</th>\n",
              "    </tr>\n",
              "  </thead>\n",
              "  <tbody>\n",
              "    <tr>\n",
              "      <th>0</th>\n",
              "      <td>2</td>\n",
              "      <td>!!! RT @mayasolovely: As a woman you shouldn't...</td>\n",
              "    </tr>\n",
              "    <tr>\n",
              "      <th>1</th>\n",
              "      <td>1</td>\n",
              "      <td>!!!!! RT @mleew17: boy dats cold...tyga dwn ba...</td>\n",
              "    </tr>\n",
              "    <tr>\n",
              "      <th>2</th>\n",
              "      <td>1</td>\n",
              "      <td>!!!!!!! RT @UrKindOfBrand Dawg!!!! RT @80sbaby...</td>\n",
              "    </tr>\n",
              "    <tr>\n",
              "      <th>3</th>\n",
              "      <td>1</td>\n",
              "      <td>!!!!!!!!! RT @C_G_Anderson: @viva_based she lo...</td>\n",
              "    </tr>\n",
              "    <tr>\n",
              "      <th>4</th>\n",
              "      <td>1</td>\n",
              "      <td>!!!!!!!!!!!!! RT @ShenikaRoberts: The shit you...</td>\n",
              "    </tr>\n",
              "  </tbody>\n",
              "</table>\n",
              "</div>"
            ],
            "text/plain": [
              "   class                                              tweet\n",
              "0      2  !!! RT @mayasolovely: As a woman you shouldn't...\n",
              "1      1  !!!!! RT @mleew17: boy dats cold...tyga dwn ba...\n",
              "2      1  !!!!!!! RT @UrKindOfBrand Dawg!!!! RT @80sbaby...\n",
              "3      1  !!!!!!!!! RT @C_G_Anderson: @viva_based she lo...\n",
              "4      1  !!!!!!!!!!!!! RT @ShenikaRoberts: The shit you..."
            ]
          },
          "metadata": {},
          "execution_count": 4
        }
      ]
    },
    {
      "cell_type": "code",
      "metadata": {
        "id": "wkMvLxsPco8L"
      },
      "source": [
        "def message_cleaning(message):\n",
        "    Test_punc_removed = [\n",
        "        char for char in message if char not in string.punctuation]\n",
        "    Test_punc_removed_join = ''.join(Test_punc_removed)\n",
        "    Test_punc_removed_join_clean = [word for word in Test_punc_removed_join.split(\n",
        "    ) if word.lower() not in stopwords.words('english')]\n",
        "    Test_punc_removed_join_clean_join = ' '.join(Test_punc_removed_join_clean)\n",
        "    return Test_punc_removed_join_clean_join"
      ],
      "execution_count": null,
      "outputs": []
    },
    {
      "cell_type": "code",
      "metadata": {
        "id": "6poCaaxQcLkG"
      },
      "source": [
        "hatespeech = tweets_df[tweets_df['class'] == 0]\n",
        "offensive = tweets_df[tweets_df['class'] == 1]\n",
        "neutral = tweets_df[tweets_df['class'] == 2]"
      ],
      "execution_count": null,
      "outputs": []
    },
    {
      "cell_type": "code",
      "metadata": {
        "id": "G-2hnJl5cLnS"
      },
      "source": [
        "tweets_df_clean = pd.DataFrame(columns=['class', 'tweet'])\n",
        "tweets_df_clean['tweet'] = tweets_df['tweet'].apply(message_cleaning)\n",
        "tweets_df_clean['class'] = tweets_df['class']"
      ],
      "execution_count": null,
      "outputs": []
    },
    {
      "cell_type": "code",
      "metadata": {
        "colab": {
          "base_uri": "https://localhost:8080/",
          "height": 206
        },
        "id": "PI5UAy3XcLpj",
        "outputId": "05fdc30c-68b8-447d-b790-9f1f96399d90"
      },
      "source": [
        "tweets_df_clean.head()"
      ],
      "execution_count": null,
      "outputs": [
        {
          "output_type": "execute_result",
          "data": {
            "text/html": [
              "<div>\n",
              "<style scoped>\n",
              "    .dataframe tbody tr th:only-of-type {\n",
              "        vertical-align: middle;\n",
              "    }\n",
              "\n",
              "    .dataframe tbody tr th {\n",
              "        vertical-align: top;\n",
              "    }\n",
              "\n",
              "    .dataframe thead th {\n",
              "        text-align: right;\n",
              "    }\n",
              "</style>\n",
              "<table border=\"1\" class=\"dataframe\">\n",
              "  <thead>\n",
              "    <tr style=\"text-align: right;\">\n",
              "      <th></th>\n",
              "      <th>class</th>\n",
              "      <th>tweet</th>\n",
              "    </tr>\n",
              "  </thead>\n",
              "  <tbody>\n",
              "    <tr>\n",
              "      <th>0</th>\n",
              "      <td>2</td>\n",
              "      <td>RT mayasolovely woman shouldnt complain cleani...</td>\n",
              "    </tr>\n",
              "    <tr>\n",
              "      <th>1</th>\n",
              "      <td>1</td>\n",
              "      <td>RT mleew17 boy dats coldtyga dwn bad cuffin da...</td>\n",
              "    </tr>\n",
              "    <tr>\n",
              "      <th>2</th>\n",
              "      <td>1</td>\n",
              "      <td>RT UrKindOfBrand Dawg RT 80sbaby4life ever fuc...</td>\n",
              "    </tr>\n",
              "    <tr>\n",
              "      <th>3</th>\n",
              "      <td>1</td>\n",
              "      <td>RT CGAnderson vivabased look like tranny</td>\n",
              "    </tr>\n",
              "    <tr>\n",
              "      <th>4</th>\n",
              "      <td>1</td>\n",
              "      <td>RT ShenikaRoberts shit hear might true might f...</td>\n",
              "    </tr>\n",
              "  </tbody>\n",
              "</table>\n",
              "</div>"
            ],
            "text/plain": [
              "   class                                              tweet\n",
              "0      2  RT mayasolovely woman shouldnt complain cleani...\n",
              "1      1  RT mleew17 boy dats coldtyga dwn bad cuffin da...\n",
              "2      1  RT UrKindOfBrand Dawg RT 80sbaby4life ever fuc...\n",
              "3      1           RT CGAnderson vivabased look like tranny\n",
              "4      1  RT ShenikaRoberts shit hear might true might f..."
            ]
          },
          "metadata": {},
          "execution_count": 10
        }
      ]
    },
    {
      "cell_type": "code",
      "metadata": {
        "colab": {
          "base_uri": "https://localhost:8080/"
        },
        "id": "he095hbRcLsr",
        "outputId": "40bb8e66-4f40-4617-de91-f5ef98bb3d6e"
      },
      "source": [
        "print(tweets_df_clean['tweet'][5]) \n",
        "print(tweets_df['tweet'][5])"
      ],
      "execution_count": null,
      "outputs": [
        {
          "output_type": "stream",
          "name": "stdout",
          "text": [
            "TMadisonx shit blows meclaim faithful somebody still fucking hoes 128514128514128514\n",
            "!!!!!!!!!!!!!!!!!!\"@T_Madison_x: The shit just blows me..claim you so faithful and down for somebody but still fucking with hoes! &#128514;&#128514;&#128514;\"\n"
          ]
        }
      ]
    },
    {
      "cell_type": "code",
      "metadata": {
        "id": "o_T7Hq5mcLvq"
      },
      "source": [
        "vectorizer = CountVectorizer(analyzer = message_cleaning)\n",
        "tweets_countvectorizer = CountVectorizer(analyzer = message_cleaning, dtype = 'uint8').fit_transform(tweets_df_clean['tweet']).toarray()"
      ],
      "execution_count": null,
      "outputs": []
    },
    {
      "cell_type": "code",
      "metadata": {
        "id": "qaA0qX2qcLx8"
      },
      "source": [
        "X = tweets_countvectorizer\n",
        "y = np.array(pd.get_dummies(tweets_df_clean['class']))"
      ],
      "execution_count": null,
      "outputs": []
    },
    {
      "cell_type": "code",
      "metadata": {
        "colab": {
          "base_uri": "https://localhost:8080/"
        },
        "id": "jI6cb1QKcL0j",
        "outputId": "5aaf9cf6-adaf-4eb5-865b-fd93fb4719b0"
      },
      "source": [
        "X.shape"
      ],
      "execution_count": null,
      "outputs": [
        {
          "output_type": "execute_result",
          "data": {
            "text/plain": [
              "(24783, 63)"
            ]
          },
          "metadata": {},
          "execution_count": 14
        }
      ]
    },
    {
      "cell_type": "code",
      "metadata": {
        "colab": {
          "base_uri": "https://localhost:8080/"
        },
        "id": "W2aeQxAxcL3V",
        "outputId": "736d44d9-6ae2-4f32-a0ec-404ac6bcfe48"
      },
      "source": [
        "y.shape"
      ],
      "execution_count": null,
      "outputs": [
        {
          "output_type": "execute_result",
          "data": {
            "text/plain": [
              "(24783, 3)"
            ]
          },
          "metadata": {},
          "execution_count": 15
        }
      ]
    },
    {
      "cell_type": "code",
      "metadata": {
        "id": "WriPW5gQcL55"
      },
      "source": [
        "from sklearn.model_selection import train_test_split\n",
        "X_train, X_test, y_train, y_test = train_test_split(X, y, test_size=0.1)"
      ],
      "execution_count": null,
      "outputs": []
    },
    {
      "cell_type": "code",
      "metadata": {
        "colab": {
          "base_uri": "https://localhost:8080/"
        },
        "id": "QajnT8VfcL86",
        "outputId": "e9b857b9-c254-4409-9703-5bce999b7a67"
      },
      "source": [
        "X_train.shape\n",
        "\n",
        "total_words = 200\n",
        "total_words"
      ],
      "execution_count": null,
      "outputs": [
        {
          "output_type": "execute_result",
          "data": {
            "text/plain": [
              "200"
            ]
          },
          "metadata": {},
          "execution_count": 17
        }
      ]
    },
    {
      "cell_type": "code",
      "metadata": {
        "id": "pUj5V8yUcL_-"
      },
      "source": [
        "from tensorflow.keras.models import Sequential\n",
        "from tensorflow.keras.layers import Dense, Flatten,RepeatVector, Embedding, Input, LSTM, Conv1D, MaxPool1D, Bidirectional\n",
        "from tensorflow.keras.models import Model\n",
        "from tensorflow.keras.layers import Embedding, Dense, GlobalAveragePooling1D"
      ],
      "execution_count": null,
      "outputs": []
    },
    {
      "cell_type": "code",
      "metadata": {
        "colab": {
          "base_uri": "https://localhost:8080/"
        },
        "id": "jNgK6qDKcMCg",
        "outputId": "b2d3d8ef-ebd4-497d-f790-949c12711f9d"
      },
      "source": [
        "model1 = Sequential()\n",
        "\n",
        "model1.add(Embedding(total_words, output_dim = 32))\n",
        "model1.add(LSTM(32))\n",
        "model1.add(RepeatVector(200))\n",
        "model1.add(GlobalAveragePooling1D())\n",
        "model1.add(Dense(32, activation='relu'))\n",
        "model1.add(Dense(16, activation='relu'))\n",
        "\n",
        "model1.add(Dense(3,activation= 'softmax'))\n",
        "model1.compile(optimizer='adam', loss='categorical_crossentropy', metrics=['acc'])\n",
        "model1.summary()"
      ],
      "execution_count": null,
      "outputs": [
        {
          "output_type": "stream",
          "name": "stdout",
          "text": [
            "Model: \"sequential_18\"\n",
            "_________________________________________________________________\n",
            "Layer (type)                 Output Shape              Param #   \n",
            "=================================================================\n",
            "embedding_18 (Embedding)     (None, None, 32)          6400      \n",
            "_________________________________________________________________\n",
            "lstm_15 (LSTM)               (None, 32)                8320      \n",
            "_________________________________________________________________\n",
            "repeat_vector_13 (RepeatVect (None, 200, 32)           0         \n",
            "_________________________________________________________________\n",
            "global_average_pooling1d_13  (None, 32)                0         \n",
            "_________________________________________________________________\n",
            "dense_138 (Dense)            (None, 32)                1056      \n",
            "_________________________________________________________________\n",
            "dense_139 (Dense)            (None, 16)                528       \n",
            "_________________________________________________________________\n",
            "dense_140 (Dense)            (None, 3)                 51        \n",
            "=================================================================\n",
            "Total params: 16,355\n",
            "Trainable params: 16,355\n",
            "Non-trainable params: 0\n",
            "_________________________________________________________________\n"
          ]
        }
      ]
    },
    {
      "cell_type": "code",
      "metadata": {
        "colab": {
          "base_uri": "https://localhost:8080/"
        },
        "id": "t0UebdzhcMFe",
        "outputId": "7042fc01-ddcb-4ff4-a879-d7b230c98473"
      },
      "source": [
        "history = model1.fit(X_train, y_train, batch_size = 256, validation_split = 0.1, epochs = 100)"
      ],
      "execution_count": null,
      "outputs": [
        {
          "output_type": "stream",
          "name": "stdout",
          "text": [
            "Epoch 1/100\n",
            "79/79 [==============================] - 8s 77ms/step - loss: 0.7652 - acc: 0.7607 - val_loss: 0.6455 - val_acc: 0.7808\n",
            "Epoch 2/100\n",
            "79/79 [==============================] - 5s 70ms/step - loss: 0.6571 - acc: 0.7752 - val_loss: 0.6399 - val_acc: 0.7808\n",
            "Epoch 3/100\n",
            "79/79 [==============================] - 6s 70ms/step - loss: 0.6540 - acc: 0.7752 - val_loss: 0.6377 - val_acc: 0.7808\n",
            "Epoch 4/100\n",
            "79/79 [==============================] - 5s 69ms/step - loss: 0.6510 - acc: 0.7752 - val_loss: 0.6332 - val_acc: 0.7808\n",
            "Epoch 5/100\n",
            "79/79 [==============================] - 5s 69ms/step - loss: 0.6492 - acc: 0.7752 - val_loss: 0.6330 - val_acc: 0.7808\n",
            "Epoch 6/100\n",
            "79/79 [==============================] - 6s 70ms/step - loss: 0.6484 - acc: 0.7752 - val_loss: 0.6310 - val_acc: 0.7808\n",
            "Epoch 7/100\n",
            "79/79 [==============================] - 6s 70ms/step - loss: 0.6467 - acc: 0.7753 - val_loss: 0.6310 - val_acc: 0.7808\n",
            "Epoch 8/100\n",
            "79/79 [==============================] - 6s 70ms/step - loss: 0.6449 - acc: 0.7757 - val_loss: 0.6257 - val_acc: 0.7808\n",
            "Epoch 9/100\n",
            "79/79 [==============================] - 6s 70ms/step - loss: 0.6331 - acc: 0.7773 - val_loss: 0.6202 - val_acc: 0.7808\n",
            "Epoch 10/100\n",
            "79/79 [==============================] - 6s 71ms/step - loss: 0.6279 - acc: 0.7781 - val_loss: 0.6164 - val_acc: 0.7826\n",
            "Epoch 11/100\n",
            "79/79 [==============================] - 6s 71ms/step - loss: 0.6249 - acc: 0.7772 - val_loss: 0.6131 - val_acc: 0.7848\n",
            "Epoch 12/100\n",
            "79/79 [==============================] - 6s 70ms/step - loss: 0.6224 - acc: 0.7789 - val_loss: 0.6197 - val_acc: 0.7817\n",
            "Epoch 13/100\n",
            "79/79 [==============================] - 6s 70ms/step - loss: 0.6210 - acc: 0.7789 - val_loss: 0.6130 - val_acc: 0.7875\n",
            "Epoch 14/100\n",
            "79/79 [==============================] - 6s 71ms/step - loss: 0.6178 - acc: 0.7805 - val_loss: 0.6088 - val_acc: 0.7862\n",
            "Epoch 15/100\n",
            "79/79 [==============================] - 6s 71ms/step - loss: 0.6161 - acc: 0.7809 - val_loss: 0.6128 - val_acc: 0.7826\n",
            "Epoch 16/100\n",
            "79/79 [==============================] - 6s 71ms/step - loss: 0.6146 - acc: 0.7808 - val_loss: 0.6070 - val_acc: 0.7875\n",
            "Epoch 17/100\n",
            "79/79 [==============================] - 6s 70ms/step - loss: 0.6110 - acc: 0.7812 - val_loss: 0.6036 - val_acc: 0.7884\n",
            "Epoch 18/100\n",
            "79/79 [==============================] - 6s 70ms/step - loss: 0.6129 - acc: 0.7809 - val_loss: 0.6053 - val_acc: 0.7889\n",
            "Epoch 19/100\n",
            "79/79 [==============================] - 6s 70ms/step - loss: 0.6078 - acc: 0.7827 - val_loss: 0.5972 - val_acc: 0.7871\n",
            "Epoch 20/100\n",
            "79/79 [==============================] - 6s 70ms/step - loss: 0.6066 - acc: 0.7814 - val_loss: 0.5976 - val_acc: 0.7880\n",
            "Epoch 21/100\n",
            "79/79 [==============================] - 6s 70ms/step - loss: 0.6032 - acc: 0.7836 - val_loss: 0.6055 - val_acc: 0.7871\n",
            "Epoch 22/100\n",
            "79/79 [==============================] - 6s 71ms/step - loss: 0.6025 - acc: 0.7840 - val_loss: 0.5982 - val_acc: 0.7862\n",
            "Epoch 23/100\n",
            "79/79 [==============================] - 6s 70ms/step - loss: 0.5999 - acc: 0.7849 - val_loss: 0.6067 - val_acc: 0.7862\n",
            "Epoch 24/100\n",
            "79/79 [==============================] - 6s 70ms/step - loss: 0.6017 - acc: 0.7841 - val_loss: 0.5977 - val_acc: 0.7857\n",
            "Epoch 25/100\n",
            "79/79 [==============================] - 6s 71ms/step - loss: 0.5973 - acc: 0.7863 - val_loss: 0.6021 - val_acc: 0.7840\n",
            "Epoch 26/100\n",
            "79/79 [==============================] - 6s 70ms/step - loss: 0.5962 - acc: 0.7858 - val_loss: 0.5896 - val_acc: 0.7934\n",
            "Epoch 27/100\n",
            "79/79 [==============================] - 6s 70ms/step - loss: 0.5935 - acc: 0.7867 - val_loss: 0.5878 - val_acc: 0.7893\n",
            "Epoch 28/100\n",
            "79/79 [==============================] - 6s 70ms/step - loss: 0.5958 - acc: 0.7869 - val_loss: 0.5879 - val_acc: 0.7925\n",
            "Epoch 29/100\n",
            "79/79 [==============================] - 6s 70ms/step - loss: 0.5932 - acc: 0.7864 - val_loss: 0.5893 - val_acc: 0.7929\n",
            "Epoch 30/100\n",
            "79/79 [==============================] - 6s 70ms/step - loss: 0.5935 - acc: 0.7869 - val_loss: 0.5868 - val_acc: 0.7925\n",
            "Epoch 31/100\n",
            "79/79 [==============================] - 6s 71ms/step - loss: 0.5892 - acc: 0.7871 - val_loss: 0.5877 - val_acc: 0.7920\n",
            "Epoch 32/100\n",
            "79/79 [==============================] - 6s 71ms/step - loss: 0.5916 - acc: 0.7875 - val_loss: 0.5872 - val_acc: 0.7938\n",
            "Epoch 33/100\n",
            "79/79 [==============================] - 6s 71ms/step - loss: 0.5909 - acc: 0.7879 - val_loss: 0.5901 - val_acc: 0.7884\n",
            "Epoch 34/100\n",
            "79/79 [==============================] - 6s 71ms/step - loss: 0.5880 - acc: 0.7877 - val_loss: 0.5865 - val_acc: 0.7920\n",
            "Epoch 35/100\n",
            "79/79 [==============================] - 6s 71ms/step - loss: 0.5875 - acc: 0.7892 - val_loss: 0.5884 - val_acc: 0.7943\n",
            "Epoch 36/100\n",
            "79/79 [==============================] - 6s 71ms/step - loss: 0.5873 - acc: 0.7894 - val_loss: 0.5866 - val_acc: 0.7938\n",
            "Epoch 37/100\n",
            "79/79 [==============================] - 6s 70ms/step - loss: 0.5837 - acc: 0.7894 - val_loss: 0.5878 - val_acc: 0.7938\n",
            "Epoch 38/100\n",
            "79/79 [==============================] - 6s 70ms/step - loss: 0.5838 - acc: 0.7908 - val_loss: 0.5869 - val_acc: 0.7920\n",
            "Epoch 39/100\n",
            "79/79 [==============================] - 6s 71ms/step - loss: 0.5824 - acc: 0.7906 - val_loss: 0.5847 - val_acc: 0.7929\n",
            "Epoch 40/100\n",
            "79/79 [==============================] - 6s 70ms/step - loss: 0.5834 - acc: 0.7900 - val_loss: 0.5859 - val_acc: 0.7934\n",
            "Epoch 41/100\n",
            "79/79 [==============================] - 6s 71ms/step - loss: 0.5818 - acc: 0.7910 - val_loss: 0.5886 - val_acc: 0.7902\n",
            "Epoch 42/100\n",
            "79/79 [==============================] - 6s 70ms/step - loss: 0.5798 - acc: 0.7909 - val_loss: 0.5872 - val_acc: 0.7938\n",
            "Epoch 43/100\n",
            "79/79 [==============================] - 6s 72ms/step - loss: 0.5801 - acc: 0.7903 - val_loss: 0.5868 - val_acc: 0.7902\n",
            "Epoch 44/100\n",
            "79/79 [==============================] - 6s 71ms/step - loss: 0.5794 - acc: 0.7912 - val_loss: 0.5848 - val_acc: 0.7934\n",
            "Epoch 45/100\n",
            "79/79 [==============================] - 6s 70ms/step - loss: 0.5786 - acc: 0.7910 - val_loss: 0.5843 - val_acc: 0.7943\n",
            "Epoch 46/100\n",
            "79/79 [==============================] - 6s 71ms/step - loss: 0.5781 - acc: 0.7908 - val_loss: 0.5877 - val_acc: 0.7947\n",
            "Epoch 47/100\n",
            "79/79 [==============================] - 6s 70ms/step - loss: 0.5780 - acc: 0.7913 - val_loss: 0.5892 - val_acc: 0.7871\n",
            "Epoch 48/100\n",
            "79/79 [==============================] - 6s 71ms/step - loss: 0.5781 - acc: 0.7908 - val_loss: 0.5912 - val_acc: 0.7961\n",
            "Epoch 49/100\n",
            "79/79 [==============================] - 6s 71ms/step - loss: 0.5776 - acc: 0.7916 - val_loss: 0.5882 - val_acc: 0.7866\n",
            "Epoch 50/100\n",
            "79/79 [==============================] - 6s 70ms/step - loss: 0.5745 - acc: 0.7901 - val_loss: 0.5834 - val_acc: 0.7925\n",
            "Epoch 51/100\n",
            "79/79 [==============================] - 6s 70ms/step - loss: 0.5748 - acc: 0.7930 - val_loss: 0.5815 - val_acc: 0.7947\n",
            "Epoch 52/100\n",
            "79/79 [==============================] - 6s 70ms/step - loss: 0.5726 - acc: 0.7930 - val_loss: 0.5873 - val_acc: 0.7866\n",
            "Epoch 53/100\n",
            "79/79 [==============================] - 6s 72ms/step - loss: 0.5705 - acc: 0.7939 - val_loss: 0.5850 - val_acc: 0.7925\n",
            "Epoch 54/100\n",
            "79/79 [==============================] - 6s 71ms/step - loss: 0.5707 - acc: 0.7926 - val_loss: 0.5819 - val_acc: 0.7920\n",
            "Epoch 55/100\n",
            "79/79 [==============================] - 6s 71ms/step - loss: 0.5690 - acc: 0.7936 - val_loss: 0.5891 - val_acc: 0.7848\n",
            "Epoch 56/100\n",
            "79/79 [==============================] - 6s 70ms/step - loss: 0.5700 - acc: 0.7929 - val_loss: 0.5894 - val_acc: 0.7862\n",
            "Epoch 57/100\n",
            "79/79 [==============================] - 6s 71ms/step - loss: 0.5679 - acc: 0.7927 - val_loss: 0.5872 - val_acc: 0.7898\n",
            "Epoch 58/100\n",
            "79/79 [==============================] - 6s 70ms/step - loss: 0.5654 - acc: 0.7946 - val_loss: 0.5806 - val_acc: 0.7907\n",
            "Epoch 59/100\n",
            "79/79 [==============================] - 6s 71ms/step - loss: 0.5659 - acc: 0.7925 - val_loss: 0.5831 - val_acc: 0.7920\n",
            "Epoch 60/100\n",
            "79/79 [==============================] - 6s 72ms/step - loss: 0.5659 - acc: 0.7961 - val_loss: 0.5983 - val_acc: 0.7808\n",
            "Epoch 61/100\n",
            "79/79 [==============================] - 6s 71ms/step - loss: 0.5635 - acc: 0.7955 - val_loss: 0.5875 - val_acc: 0.7911\n",
            "Epoch 62/100\n",
            "79/79 [==============================] - 6s 71ms/step - loss: 0.5615 - acc: 0.7947 - val_loss: 0.5870 - val_acc: 0.7884\n",
            "Epoch 63/100\n",
            "79/79 [==============================] - 6s 71ms/step - loss: 0.5635 - acc: 0.7948 - val_loss: 0.5848 - val_acc: 0.7884\n",
            "Epoch 64/100\n",
            "79/79 [==============================] - 6s 71ms/step - loss: 0.5582 - acc: 0.7950 - val_loss: 0.5842 - val_acc: 0.7875\n",
            "Epoch 65/100\n",
            "79/79 [==============================] - 6s 71ms/step - loss: 0.5584 - acc: 0.7959 - val_loss: 0.5883 - val_acc: 0.7911\n",
            "Epoch 66/100\n",
            "79/79 [==============================] - 6s 72ms/step - loss: 0.5585 - acc: 0.7958 - val_loss: 0.5883 - val_acc: 0.7862\n",
            "Epoch 67/100\n",
            "79/79 [==============================] - 6s 71ms/step - loss: 0.5561 - acc: 0.7971 - val_loss: 0.5895 - val_acc: 0.7902\n",
            "Epoch 68/100\n",
            "79/79 [==============================] - 6s 71ms/step - loss: 0.5548 - acc: 0.7979 - val_loss: 0.5884 - val_acc: 0.7866\n",
            "Epoch 69/100\n",
            "79/79 [==============================] - 6s 71ms/step - loss: 0.5547 - acc: 0.7969 - val_loss: 0.6085 - val_acc: 0.7822\n",
            "Epoch 70/100\n",
            "79/79 [==============================] - 6s 71ms/step - loss: 0.5535 - acc: 0.7969 - val_loss: 0.5866 - val_acc: 0.7902\n",
            "Epoch 71/100\n",
            "79/79 [==============================] - 6s 71ms/step - loss: 0.5532 - acc: 0.7973 - val_loss: 0.5848 - val_acc: 0.7907\n",
            "Epoch 72/100\n",
            "79/79 [==============================] - 6s 71ms/step - loss: 0.5514 - acc: 0.7977 - val_loss: 0.5893 - val_acc: 0.7898\n",
            "Epoch 73/100\n",
            "79/79 [==============================] - 6s 70ms/step - loss: 0.5523 - acc: 0.7974 - val_loss: 0.5939 - val_acc: 0.7822\n",
            "Epoch 74/100\n",
            "79/79 [==============================] - 6s 72ms/step - loss: 0.5500 - acc: 0.7990 - val_loss: 0.5885 - val_acc: 0.7853\n",
            "Epoch 75/100\n",
            "79/79 [==============================] - 6s 72ms/step - loss: 0.5480 - acc: 0.7976 - val_loss: 0.5904 - val_acc: 0.7884\n",
            "Epoch 76/100\n",
            "79/79 [==============================] - 6s 72ms/step - loss: 0.5467 - acc: 0.7992 - val_loss: 0.5889 - val_acc: 0.7835\n",
            "Epoch 77/100\n",
            "79/79 [==============================] - 6s 71ms/step - loss: 0.5488 - acc: 0.7985 - val_loss: 0.5869 - val_acc: 0.7898\n",
            "Epoch 78/100\n",
            "79/79 [==============================] - 6s 70ms/step - loss: 0.5464 - acc: 0.7994 - val_loss: 0.5864 - val_acc: 0.7889\n",
            "Epoch 79/100\n",
            "79/79 [==============================] - 6s 72ms/step - loss: 0.5444 - acc: 0.7998 - val_loss: 0.5959 - val_acc: 0.7853\n",
            "Epoch 80/100\n",
            "79/79 [==============================] - 6s 71ms/step - loss: 0.5459 - acc: 0.7994 - val_loss: 0.5898 - val_acc: 0.7875\n",
            "Epoch 81/100\n",
            "79/79 [==============================] - 6s 72ms/step - loss: 0.5416 - acc: 0.8003 - val_loss: 0.5954 - val_acc: 0.7857\n",
            "Epoch 82/100\n",
            "79/79 [==============================] - 6s 71ms/step - loss: 0.5421 - acc: 0.8020 - val_loss: 0.5927 - val_acc: 0.7880\n",
            "Epoch 83/100\n",
            "79/79 [==============================] - 6s 71ms/step - loss: 0.5429 - acc: 0.7995 - val_loss: 0.5890 - val_acc: 0.7875\n",
            "Epoch 84/100\n",
            "79/79 [==============================] - 6s 71ms/step - loss: 0.5385 - acc: 0.8019 - val_loss: 0.5910 - val_acc: 0.7844\n",
            "Epoch 85/100\n",
            "79/79 [==============================] - 6s 72ms/step - loss: 0.5407 - acc: 0.8003 - val_loss: 0.5911 - val_acc: 0.7889\n",
            "Epoch 86/100\n",
            "79/79 [==============================] - 6s 72ms/step - loss: 0.5399 - acc: 0.8019 - val_loss: 0.5954 - val_acc: 0.7889\n",
            "Epoch 87/100\n",
            "79/79 [==============================] - 6s 71ms/step - loss: 0.5394 - acc: 0.8016 - val_loss: 0.5948 - val_acc: 0.7898\n",
            "Epoch 88/100\n",
            "79/79 [==============================] - 6s 71ms/step - loss: 0.5365 - acc: 0.8025 - val_loss: 0.5909 - val_acc: 0.7884\n",
            "Epoch 89/100\n",
            "79/79 [==============================] - 6s 71ms/step - loss: 0.5363 - acc: 0.8027 - val_loss: 0.5939 - val_acc: 0.7898\n",
            "Epoch 90/100\n",
            "79/79 [==============================] - 6s 72ms/step - loss: 0.5361 - acc: 0.8027 - val_loss: 0.5899 - val_acc: 0.7911\n",
            "Epoch 91/100\n",
            "79/79 [==============================] - 6s 72ms/step - loss: 0.5361 - acc: 0.8024 - val_loss: 0.5927 - val_acc: 0.7862\n",
            "Epoch 92/100\n",
            "79/79 [==============================] - 6s 72ms/step - loss: 0.5337 - acc: 0.8039 - val_loss: 0.5955 - val_acc: 0.7848\n",
            "Epoch 93/100\n",
            "79/79 [==============================] - 6s 72ms/step - loss: 0.5357 - acc: 0.8017 - val_loss: 0.5919 - val_acc: 0.7893\n",
            "Epoch 94/100\n",
            "79/79 [==============================] - 6s 71ms/step - loss: 0.5313 - acc: 0.8032 - val_loss: 0.5924 - val_acc: 0.7893\n",
            "Epoch 95/100\n",
            "79/79 [==============================] - 6s 71ms/step - loss: 0.5309 - acc: 0.8029 - val_loss: 0.5904 - val_acc: 0.7902\n",
            "Epoch 96/100\n",
            "79/79 [==============================] - 6s 72ms/step - loss: 0.5285 - acc: 0.8055 - val_loss: 0.5971 - val_acc: 0.7857\n",
            "Epoch 97/100\n",
            "79/79 [==============================] - 6s 72ms/step - loss: 0.5306 - acc: 0.8038 - val_loss: 0.5963 - val_acc: 0.7826\n",
            "Epoch 98/100\n",
            "79/79 [==============================] - 6s 72ms/step - loss: 0.5280 - acc: 0.8055 - val_loss: 0.5929 - val_acc: 0.7934\n",
            "Epoch 99/100\n",
            "79/79 [==============================] - 6s 71ms/step - loss: 0.5304 - acc: 0.8039 - val_loss: 0.5932 - val_acc: 0.7916\n",
            "Epoch 100/100\n",
            "79/79 [==============================] - 6s 71ms/step - loss: 0.5271 - acc: 0.8052 - val_loss: 0.5941 - val_acc: 0.7902\n"
          ]
        }
      ]
    },
    {
      "cell_type": "code",
      "metadata": {
        "colab": {
          "base_uri": "https://localhost:8080/"
        },
        "id": "OXm-35jkoPEa",
        "outputId": "83a98174-5cfe-4aaa-83d8-a2223072f07c"
      },
      "source": [
        "model1.evaluate(X_test,y_test)"
      ],
      "execution_count": null,
      "outputs": [
        {
          "output_type": "stream",
          "name": "stdout",
          "text": [
            "78/78 [==============================] - 1s 8ms/step - loss: 0.6072 - acc: 0.7761\n"
          ]
        },
        {
          "output_type": "execute_result",
          "data": {
            "text/plain": [
              "[0.6071586012840271, 0.7761194109916687]"
            ]
          },
          "metadata": {},
          "execution_count": 63
        }
      ]
    },
    {
      "cell_type": "code",
      "metadata": {
        "colab": {
          "base_uri": "https://localhost:8080/",
          "height": 295
        },
        "id": "z-RwtwcscMIX",
        "outputId": "35b44b6c-6910-406d-e26d-73bba0306e9e"
      },
      "source": [
        "plt.plot(history.history['loss'])\n",
        "plt.plot(history.history['val_loss'])\n",
        "plt.title('Model loss')\n",
        "plt.ylabel('loss')\n",
        "plt.xlabel('epoch')\n",
        "plt.legend(['train_loss','val_loss'], loc = 'upper right')\n",
        "plt.show()"
      ],
      "execution_count": null,
      "outputs": [
        {
          "output_type": "display_data",
          "data": {
            "image/png": "[encoded data removed]",
            "text/plain": [
              "<Figure size 432x288 with 1 Axes>"
            ]
          },
          "metadata": {
            "needs_background": "light"
          }
        }
      ]
    },
    {
      "cell_type": "code",
      "metadata": {
        "colab": {
          "base_uri": "https://localhost:8080/",
          "height": 295
        },
        "id": "ih4eMxNLcMLG",
        "outputId": "b9fd1b0c-d927-4700-b873-446c1c37c3a3"
      },
      "source": [
        "plt.plot(history.history['acc'])\n",
        "plt.plot(history.history['val_acc'])\n",
        "plt.title('Model accuracy')\n",
        "plt.ylabel('accuracy')\n",
        "plt.xlabel('epoch')\n",
        "plt.legend(['train_acc','val_acc'], loc = 'upper right')\n",
        "plt.show()"
      ],
      "execution_count": null,
      "outputs": [
        {
          "output_type": "display_data",
          "data": {
            "image/png": "[encoded data removed]",
            "text/plain": [
              "<Figure size 432x288 with 1 Axes>"
            ]
          },
          "metadata": {
            "needs_background": "light"
          }
        }
      ]
    },
    {
      "cell_type": "code",
      "metadata": {
        "id": "F1MRuCKscMNw"
      },
      "source": [
        "model1.save(\"hate_speech.h5\")"
      ],
      "execution_count": null,
      "outputs": []
    },
    {
      "cell_type": "code",
      "metadata": {
        "colab": {
          "base_uri": "https://localhost:8080/"
        },
        "id": "TZh-LiLGdTdC",
        "outputId": "e78f93e1-ada5-41b5-98bf-011522f2570a"
      },
      "source": [
        "model1.evaluate(X_test,y_test)"
      ],
      "execution_count": null,
      "outputs": [
        {
          "output_type": "stream",
          "name": "stdout",
          "text": [
            "78/78 [==============================] - 1s 8ms/step - loss: 0.6072 - acc: 0.7761\n"
          ]
        },
        {
          "output_type": "execute_result",
          "data": {
            "text/plain": [
              "[0.6071586012840271, 0.7761194109916687]"
            ]
          },
          "metadata": {},
          "execution_count": 67
        }
      ]
    },
    {
      "cell_type": "code",
      "metadata": {
        "colab": {
          "base_uri": "https://localhost:8080/"
        },
        "id": "DKQ1zB5SdTgO",
        "outputId": "a8974018-d497-433a-e685-cdff09688cf1"
      },
      "source": [
        "print(tweets_df['tweet'][0])\n",
        "print(tweets_df['tweet'][1])\n",
        "print(tweets_df['tweet'][2])\n",
        "print(tweets_df['tweet'][3])\n",
        "print(tweets_df['tweet'][4])"
      ],
      "execution_count": null,
      "outputs": [
        {
          "output_type": "stream",
          "name": "stdout",
          "text": [
            "!!! RT @mayasolovely: As a woman you shouldn't complain about cleaning up your house. &amp; as a man you should always take the trash out...\n",
            "!!!!! RT @mleew17: boy dats cold...tyga dwn bad for cuffin dat hoe in the 1st place!!\n",
            "!!!!!!! RT @UrKindOfBrand Dawg!!!! RT @80sbaby4life: You ever fuck a bitch and she start to cry? You be confused as shit\n",
            "!!!!!!!!! RT @C_G_Anderson: @viva_based she look like a tranny\n",
            "!!!!!!!!!!!!! RT @ShenikaRoberts: The shit you hear about me might be true or it might be faker than the bitch who told it to ya &#57361;\n"
          ]
        }
      ]
    },
    {
      "cell_type": "code",
      "metadata": {
        "id": "NpsR62tZdTjQ"
      },
      "source": [
        "tweets_countvectorizer = CountVectorizer(analyzer = message_cleaning, dtype = 'uint8').fit_transform(tweets_df['tweet'][:5]).toarray()"
      ],
      "execution_count": null,
      "outputs": []
    },
    {
      "cell_type": "code",
      "metadata": {
        "id": "PKIz7hgfdToj"
      },
      "source": [
        "preds = model1.predict(tweets_countvectorizer)"
      ],
      "execution_count": null,
      "outputs": []
    },
    {
      "cell_type": "code",
      "metadata": {
        "id": "pe93jRzkdTrc"
      },
      "source": [
        "preds_class = []\n",
        "for i in range(len(preds)):\n",
        "    preds_class.append(np.argmax(preds[i]))\n",
        "preds_class = np.array(preds_class) "
      ],
      "execution_count": null,
      "outputs": []
    },
    {
      "cell_type": "code",
      "metadata": {
        "colab": {
          "base_uri": "https://localhost:8080/",
          "height": 206
        },
        "id": "RXfPMjqgdTu8",
        "outputId": "7dc10e98-44a4-4378-8f35-ae18bd13feb6"
      },
      "source": [
        "df = pd.DataFrame(columns=['Predicted Labels', 'Actual Labels'])\n",
        "df['Predicted Labels'] = preds_class\n",
        "df['Actual Labels'] = tweets_df['class'][:5]\n",
        "df.head()"
      ],
      "execution_count": null,
      "outputs": [
        {
          "output_type": "execute_result",
          "data": {
            "text/html": [
              "<div>\n",
              "<style scoped>\n",
              "    .dataframe tbody tr th:only-of-type {\n",
              "        vertical-align: middle;\n",
              "    }\n",
              "\n",
              "    .dataframe tbody tr th {\n",
              "        vertical-align: top;\n",
              "    }\n",
              "\n",
              "    .dataframe thead th {\n",
              "        text-align: right;\n",
              "    }\n",
              "</style>\n",
              "<table border=\"1\" class=\"dataframe\">\n",
              "  <thead>\n",
              "    <tr style=\"text-align: right;\">\n",
              "      <th></th>\n",
              "      <th>Predicted Labels</th>\n",
              "      <th>Actual Labels</th>\n",
              "    </tr>\n",
              "  </thead>\n",
              "  <tbody>\n",
              "    <tr>\n",
              "      <th>0</th>\n",
              "      <td>2</td>\n",
              "      <td>2</td>\n",
              "    </tr>\n",
              "    <tr>\n",
              "      <th>1</th>\n",
              "      <td>2</td>\n",
              "      <td>1</td>\n",
              "    </tr>\n",
              "    <tr>\n",
              "      <th>2</th>\n",
              "      <td>1</td>\n",
              "      <td>1</td>\n",
              "    </tr>\n",
              "    <tr>\n",
              "      <th>3</th>\n",
              "      <td>1</td>\n",
              "      <td>1</td>\n",
              "    </tr>\n",
              "    <tr>\n",
              "      <th>4</th>\n",
              "      <td>1</td>\n",
              "      <td>1</td>\n",
              "    </tr>\n",
              "  </tbody>\n",
              "</table>\n",
              "</div>"
            ],
            "text/plain": [
              "   Predicted Labels  Actual Labels\n",
              "0                 2              2\n",
              "1                 2              1\n",
              "2                 1              1\n",
              "3                 1              1\n",
              "4                 1              1"
            ]
          },
          "metadata": {},
          "execution_count": 89
        }
      ]
    },
    {
      "cell_type": "code",
      "metadata": {
        "id": "oZ8yix-1dcfe"
      },
      "source": [
        "from tensorflow import keras\n",
        "hate_speech_model = keras.models.load_model(\"hate_speech.h5\")"
      ],
      "execution_count": null,
      "outputs": []
    },
    {
      "cell_type": "code",
      "metadata": {
        "colab": {
          "base_uri": "https://localhost:8080/"
        },
        "id": "9GjwNbEddclP",
        "outputId": "cf84c84f-db73-4516-f4f7-defd68dd2175"
      },
      "source": [
        "hate_speech_model.summary()"
      ],
      "execution_count": null,
      "outputs": [
        {
          "output_type": "stream",
          "name": "stdout",
          "text": [
            "Model: \"sequential_18\"\n",
            "_________________________________________________________________\n",
            "Layer (type)                 Output Shape              Param #   \n",
            "=================================================================\n",
            "embedding_18 (Embedding)     (None, None, 32)          6400      \n",
            "_________________________________________________________________\n",
            "lstm_15 (LSTM)               (None, 32)                8320      \n",
            "_________________________________________________________________\n",
            "repeat_vector_13 (RepeatVect (None, 200, 32)           0         \n",
            "_________________________________________________________________\n",
            "global_average_pooling1d_13  (None, 32)                0         \n",
            "_________________________________________________________________\n",
            "dense_138 (Dense)            (None, 32)                1056      \n",
            "_________________________________________________________________\n",
            "dense_139 (Dense)            (None, 16)                528       \n",
            "_________________________________________________________________\n",
            "dense_140 (Dense)            (None, 3)                 51        \n",
            "=================================================================\n",
            "Total params: 16,355\n",
            "Trainable params: 16,355\n",
            "Non-trainable params: 0\n",
            "_________________________________________________________________\n"
          ]
        }
      ]
    },
    {
      "cell_type": "code",
      "metadata": {
        "colab": {
          "base_uri": "https://localhost:8080/"
        },
        "id": "AWf9ZGDodcnj",
        "outputId": "c0d697c8-689b-4b7b-9484-1a425d9b55cf"
      },
      "source": [
        "loss, acc=hate_speech_model.evaluate(X_test,y_test,verbose=2)"
      ],
      "execution_count": null,
      "outputs": [
        {
          "output_type": "stream",
          "name": "stdout",
          "text": [
            "78/78 - 1s - loss: 0.6072 - acc: 0.7761\n"
          ]
        }
      ]
    }
  ]
}